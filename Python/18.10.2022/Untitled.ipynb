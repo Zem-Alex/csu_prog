{
 "cells": [
  {
   "cell_type": "code",
   "execution_count": 33,
   "id": "93bd055d",
   "metadata": {},
   "outputs": [],
   "source": [
    "def Sort(listik): #bubble\n",
    "    N = len(listik)\n",
    "    for i in range(N - 1):\n",
    "        for j in range(N - i - 1):\n",
    "            if listik[j] < listik[j + 1]:\n",
    "                buff = listik[j]\n",
    "                listik[j] = listik[j + 1]\n",
    "                listik[j + 1] = buff\n",
    "\n",
    "\n"
   ]
  },
  {
   "cell_type": "code",
   "execution_count": 34,
   "id": "d4ce0ddf",
   "metadata": {},
   "outputs": [],
   "source": [
    "def Sort(massiv):\n",
    "    step = int(len(massiv)/1.247)\n",
    "    swap = 1\n",
    "    while step > 1 or swap > 0:\n",
    "        swap = 0\n",
    "        i = 0\n",
    "        while i + step < len(massiv):\n",
    "            if massiv[i] > massiv[i+step]:\n",
    "                massiv[i], massiv[i+step] = massiv[i+step], massiv[i]\n",
    "                swap += 1\n",
    "            i = i + 1\n",
    "        if step > 1:\n",
    "            step = int(step / 1.247)"
   ]
  },
  {
   "cell_type": "code",
   "execution_count": 35,
   "id": "321692f7",
   "metadata": {
    "scrolled": true
   },
   "outputs": [
    {
     "name": "stdout",
     "output_type": "stream",
     "text": [
      "[2, 5, 7, 3, 1, 9, 0]\n",
      "[9, 7, 5, 3, 2, 1, 0]\n"
     ]
    }
   ],
   "source": [
    "listik = [2, 5, 7, 3, 1,9, 0]\n",
    "#listik.sort()\n",
    "print(listik)\n",
    "BubbleSort(listik)\n",
    "\n",
    "print(listik)"
   ]
  },
  {
   "cell_type": "code",
   "execution_count": null,
   "id": "08e4ff8e",
   "metadata": {},
   "outputs": [],
   "source": []
  },
  {
   "cell_type": "code",
   "execution_count": null,
   "id": "157873ea",
   "metadata": {},
   "outputs": [],
   "source": []
  }
 ],
 "metadata": {
  "kernelspec": {
   "display_name": "Python 3 (ipykernel)",
   "language": "python",
   "name": "python3"
  },
  "language_info": {
   "codemirror_mode": {
    "name": "ipython",
    "version": 3
   },
   "file_extension": ".py",
   "mimetype": "text/x-python",
   "name": "python",
   "nbconvert_exporter": "python",
   "pygments_lexer": "ipython3",
   "version": "3.10.6"
  }
 },
 "nbformat": 4,
 "nbformat_minor": 5
}
